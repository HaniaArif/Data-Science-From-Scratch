{
  "nbformat": 4,
  "nbformat_minor": 0,
  "metadata": {
    "colab": {
      "name": "Finding Key Connectors.ipynb",
      "provenance": [],
      "collapsed_sections": [],
      "authorship_tag": "ABX9TyNCG6ZxtPu2V202SZyt+2vs",
      "include_colab_link": true
    },
    "kernelspec": {
      "name": "python3",
      "display_name": "Python 3"
    }
  },
  "cells": [
    {
      "cell_type": "markdown",
      "metadata": {
        "id": "view-in-github",
        "colab_type": "text"
      },
      "source": [
        "<a href=\"https://colab.research.google.com/github/HaniaArif/Data-Science-From-Scratch/blob/main/Chapter1/Finding_Key_Connectors.ipynb\" target=\"_parent\"><img src=\"https://colab.research.google.com/assets/colab-badge.svg\" alt=\"Open In Colab\"/></a>"
      ]
    },
    {
      "cell_type": "markdown",
      "metadata": {
        "id": "tWaxC2EmuQht"
      },
      "source": [
        "### Dump of the entire DataSciencester network\r\n",
        "list of users, each represented by a dict that contains for each user his or her id and name."
      ]
    },
    {
      "cell_type": "code",
      "metadata": {
        "id": "K6ZOHxZtt5ha"
      },
      "source": [
        "users = [{ \"id\": 0, \"name\": \"Hero\" },    \r\n",
        "         { \"id\": 1, \"name\": \"Dunn\" },    \r\n",
        "         { \"id\": 2, \"name\": \"Sue\" },    \r\n",
        "         { \"id\": 3, \"name\": \"Chi\" },    \r\n",
        "         { \"id\": 4, \"name\": \"Thor\" },    \r\n",
        "         { \"id\": 5, \"name\": \"Clive\" },    \r\n",
        "         { \"id\": 6, \"name\": \"Hicks\" },    \r\n",
        "         { \"id\": 7, \"name\": \"Devin\" },    \r\n",
        "         { \"id\": 8, \"name\": \"Kate\" },    \r\n",
        "         { \"id\": 9, \"name\": \"Klein\" }]"
      ],
      "execution_count": 55,
      "outputs": []
    },
    {
      "cell_type": "markdown",
      "metadata": {
        "id": "pYyL_a4fu8KA"
      },
      "source": [
        "###“Friendship” data\r\n",
        " list of pairs of IDs"
      ]
    },
    {
      "cell_type": "code",
      "metadata": {
        "id": "q5REzg7KvPjg"
      },
      "source": [
        "friendships=[(0,1),(0,2),(1,2),(1,3),(2,3),(3,4),\r\n",
        "             (4,5),(5,6),(5,7),(6,8),(7,8),(8,9)]"
      ],
      "execution_count": 56,
      "outputs": []
    },
    {
      "cell_type": "markdown",
      "metadata": {
        "id": "6wJ_7jnjSQRx"
      },
      "source": [
        "\r\n",
        "\r\n",
        "---\r\n",
        "\r\n",
        "\r\n",
        "#Plotting Graph with nodes and edges\r\n",
        "plotted the friendships graph"
      ]
    },
    {
      "cell_type": "code",
      "metadata": {
        "colab": {
          "base_uri": "https://localhost:8080/",
          "height": 319
        },
        "id": "jnwtWE9rPEjN",
        "outputId": "bc0cad95-cf91-46d0-8bfd-3b8574757867"
      },
      "source": [
        "import networkx as nx\r\n",
        "import matplotlib.pyplot as plt\r\n",
        "fNetwork = nx.Graph()\r\n",
        "for i,j in friendships:\r\n",
        "  fNetwork.add_edge(i,j)\r\n",
        "  #fNetwork.add_edge(users[i][\"name\"],users[j][\"name\"])     #if you want to check via names in the graph\r\n",
        "  \r\n",
        "nx.draw(fNetwork, with_labels=True)"
      ],
      "execution_count": 57,
      "outputs": [
        {
          "output_type": "display_data",
          "data": {
            "image/png": "[encoded data removed]",
            "text/plain": [
              "<Figure size 432x288 with 1 Axes>"
            ]
          },
          "metadata": {
            "tags": []
          }
        }
      ]
    },
    {
      "cell_type": "markdown",
      "metadata": {
        "id": "1qMTIqVxSapc"
      },
      "source": [
        "\r\n",
        "\r\n",
        "---\r\n",
        "\r\n"
      ]
    },
    {
      "cell_type": "markdown",
      "metadata": {
        "id": "j32S6IY1CxC-"
      },
      "source": [
        "#Adding friends list to user data\r\n",
        "add a key \"friends\" and an empty list as it value in the \"user\" data so that you can store the friends names in that empty list"
      ]
    },
    {
      "cell_type": "code",
      "metadata": {
        "id": "eZK-IEmNvtzr"
      },
      "source": [
        "for user in users:\r\n",
        "  user[\"friends\"]=[]"
      ],
      "execution_count": 58,
      "outputs": []
    },
    {
      "cell_type": "markdown",
      "metadata": {
        "id": "EdAc44y6yt_e"
      },
      "source": [
        "add friends' names to the user using friendship data. \r\n",
        "first value from the friendship ordered pair acts as the user id and the second user id is that of the friend."
      ]
    },
    {
      "cell_type": "code",
      "metadata": {
        "colab": {
          "base_uri": "https://localhost:8080/"
        },
        "id": "WZJ12-SGy3cc",
        "outputId": "5a4f5c9e-9920-4254-bfd9-5c0783898298"
      },
      "source": [
        "for i, j in friendships:\r\n",
        "  #users[i][\"friends\"].append(users[j])   #use if you want to add all data of friends\r\n",
        "  #users[j][\"friends\"].append(users[i])\r\n",
        "  users[i][\"friends\"].append(users[j][\"name\"])    #use if you want to add friends names only\r\n",
        "  users[j][\"friends\"].append(users[i][\"name\"]) #because the friends pairs are given only once saying if a is a friend of b then b is a friend of a.\r\n",
        "\r\n",
        "print(users)"
      ],
      "execution_count": 59,
      "outputs": [
        {
          "output_type": "stream",
          "text": [
            "[{'id': 0, 'name': 'Hero', 'friends': ['Dunn', 'Sue']}, {'id': 1, 'name': 'Dunn', 'friends': ['Hero', 'Sue', 'Chi']}, {'id': 2, 'name': 'Sue', 'friends': ['Hero', 'Dunn', 'Chi']}, {'id': 3, 'name': 'Chi', 'friends': ['Dunn', 'Sue', 'Thor']}, {'id': 4, 'name': 'Thor', 'friends': ['Chi', 'Clive']}, {'id': 5, 'name': 'Clive', 'friends': ['Thor', 'Hicks', 'Devin']}, {'id': 6, 'name': 'Hicks', 'friends': ['Clive', 'Kate']}, {'id': 7, 'name': 'Devin', 'friends': ['Clive', 'Kate']}, {'id': 8, 'name': 'Kate', 'friends': ['Hicks', 'Devin', 'Klein']}, {'id': 9, 'name': 'Klein', 'friends': ['Kate']}]\n"
          ],
          "name": "stdout"
        }
      ]
    },
    {
      "cell_type": "markdown",
      "metadata": {
        "id": "dbFjqEP3UIYh"
      },
      "source": [
        "#How many friends does each user have?"
      ]
    },
    {
      "cell_type": "code",
      "metadata": {
        "colab": {
          "base_uri": "https://localhost:8080/"
        },
        "id": "HQ8UZDmdUMTG",
        "outputId": "5b35886d-559e-4c33-baf6-746b6ae96003"
      },
      "source": [
        "def total_friends(users):\r\n",
        "  for user in users:\r\n",
        "    print(user[\"name\"], \"has\", len(user[\"friends\"]) ,\"friends = \", user[\"friends\"], \"\\n\")\r\n",
        "\r\n",
        "total_friends(users)\r\n"
      ],
      "execution_count": 62,
      "outputs": [
        {
          "output_type": "stream",
          "text": [
            "Hero has 2 friends =  ['Dunn', 'Sue'] \n",
            "\n",
            "Dunn has 3 friends =  ['Hero', 'Sue', 'Chi'] \n",
            "\n",
            "Sue has 3 friends =  ['Hero', 'Dunn', 'Chi'] \n",
            "\n",
            "Chi has 3 friends =  ['Dunn', 'Sue', 'Thor'] \n",
            "\n",
            "Thor has 2 friends =  ['Chi', 'Clive'] \n",
            "\n",
            "Clive has 3 friends =  ['Thor', 'Hicks', 'Devin'] \n",
            "\n",
            "Hicks has 2 friends =  ['Clive', 'Kate'] \n",
            "\n",
            "Devin has 2 friends =  ['Clive', 'Kate'] \n",
            "\n",
            "Kate has 3 friends =  ['Hicks', 'Devin', 'Klein'] \n",
            "\n",
            "Klein has 1 friends =  ['Kate'] \n",
            "\n"
          ],
          "name": "stdout"
        }
      ]
    },
    {
      "cell_type": "markdown",
      "metadata": {
        "id": "qwToF_H3Z_A4"
      },
      "source": [
        "#Average number of connections?"
      ]
    },
    {
      "cell_type": "code",
      "metadata": {
        "colab": {
          "base_uri": "https://localhost:8080/"
        },
        "id": "5BBaY72raCHi",
        "outputId": "c86b7a6b-0952-489c-a05c-7c6b029353e6"
      },
      "source": [
        "def avg_friends(users):\r\n",
        "  sum = 0\r\n",
        "  for user in users:\r\n",
        "    sum = sum + len(user[\"friends\"])\r\n",
        "  print(sum/len(users))\r\n",
        "avg_friends(users)\r\n"
      ],
      "execution_count": 63,
      "outputs": [
        {
          "output_type": "stream",
          "text": [
            "2.4\n"
          ],
          "name": "stdout"
        }
      ]
    },
    {
      "cell_type": "markdown",
      "metadata": {
        "id": "n4MEsI5Zavn-"
      },
      "source": [
        "#Find most connected people?"
      ]
    },
    {
      "cell_type": "code",
      "metadata": {
        "id": "5IB3sO_VaznY"
      },
      "source": [
        ""
      ],
      "execution_count": null,
      "outputs": []
    }
  ]
}