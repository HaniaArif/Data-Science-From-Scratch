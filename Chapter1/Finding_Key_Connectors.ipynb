{
  "nbformat": 4,
  "nbformat_minor": 0,
  "metadata": {
    "colab": {
      "name": "Finding Key Connectors.ipynb",
      "provenance": [],
      "authorship_tag": "ABX9TyOgwhQG7GO7yWk2pCpHmW/b",
      "include_colab_link": true
    },
    "kernelspec": {
      "name": "python3",
      "display_name": "Python 3"
    }
  },
  "cells": [
    {
      "cell_type": "markdown",
      "metadata": {
        "id": "view-in-github",
        "colab_type": "text"
      },
      "source": [
        "<a href=\"https://colab.research.google.com/github/HaniaArif/Data-Science-From-Scratch/blob/main/Finding_Key_Connectors.ipynb\" target=\"_parent\"><img src=\"https://colab.research.google.com/assets/colab-badge.svg\" alt=\"Open In Colab\"/></a>"
      ]
    },
    {
      "cell_type": "markdown",
      "metadata": {
        "id": "tWaxC2EmuQht"
      },
      "source": [
        "### Dump of the entire DataSciencester network\r\n",
        "list of users, each represented by a dict that contains for each user his or her id and name."
      ]
    },
    {
      "cell_type": "code",
      "metadata": {
        "id": "K6ZOHxZtt5ha"
      },
      "source": [
        "users = [{ \"id\": 0, \"name\": \"Hero\" },    \r\n",
        "         { \"id\": 1, \"name\": \"Dunn\" },    \r\n",
        "         { \"id\": 2, \"name\": \"Sue\" },    \r\n",
        "         { \"id\": 3, \"name\": \"Chi\" },    \r\n",
        "         { \"id\": 4, \"name\": \"Thor\" },    \r\n",
        "         { \"id\": 5, \"name\": \"Clive\" },    \r\n",
        "         { \"id\": 6, \"name\": \"Hicks\" },    \r\n",
        "         { \"id\": 7, \"name\": \"Devin\" },    \r\n",
        "         { \"id\": 8, \"name\": \"Kate\" },    \r\n",
        "         { \"id\": 9, \"name\": \"Klein\" }]"
      ],
      "execution_count": 1,
      "outputs": []
    },
    {
      "cell_type": "markdown",
      "metadata": {
        "id": "pYyL_a4fu8KA"
      },
      "source": [
        "###“Friendship” data\r\n",
        " list of pairs of IDs"
      ]
    },
    {
      "cell_type": "code",
      "metadata": {
        "id": "q5REzg7KvPjg"
      },
      "source": [
        "friendships=[(0,1),(0,2),(1,2),(1,3),(2,3),(3,4),\r\n",
        "             (4,5),(5,6),(5,7),(6,8),(7,8),(8,9)]"
      ],
      "execution_count": 3,
      "outputs": []
    },
    {
      "cell_type": "markdown",
      "metadata": {
        "id": "c6qRNAU3vpU0"
      },
      "source": [
        "Add a list of friends to each user"
      ]
    },
    {
      "cell_type": "code",
      "metadata": {
        "colab": {
          "base_uri": "https://localhost:8080/"
        },
        "id": "eZK-IEmNvtzr",
        "outputId": "ce5d6abd-a917-46b1-a645-8c33ead57f61"
      },
      "source": [
        "for user in users:\r\n",
        "  user[\"friends\"]=[]\r\n",
        "\r\n",
        "print (user)"
      ],
      "execution_count": 5,
      "outputs": [
        {
          "output_type": "stream",
          "text": [
            "{'id': 9, 'name': 'Klein', 'friends': []}\n"
          ],
          "name": "stdout"
        }
      ]
    },
    {
      "cell_type": "markdown",
      "metadata": {
        "id": "EdAc44y6yt_e"
      },
      "source": [
        "add friends' names to the user dictionary using friendship data"
      ]
    },
    {
      "cell_type": "code",
      "metadata": {
        "id": "WZJ12-SGy3cc"
      },
      "source": [
        ""
      ],
      "execution_count": null,
      "outputs": []
    }
  ]
}
