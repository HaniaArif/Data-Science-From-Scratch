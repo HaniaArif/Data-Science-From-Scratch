{
  "nbformat": 4,
  "nbformat_minor": 0,
  "metadata": {
    "colab": {
      "name": "'Data Scientists You may Know' suggester.ipynb",
      "provenance": [],
      "authorship_tag": "ABX9TyP3NWN2FEcyFCEn5SzNdd46",
      "include_colab_link": true
    },
    "kernelspec": {
      "name": "python3",
      "display_name": "Python 3"
    }
  },
  "cells": [
    {
      "cell_type": "markdown",
      "metadata": {
        "id": "view-in-github",
        "colab_type": "text"
      },
      "source": [
        "<a href=\"https://colab.research.google.com/github/HaniaArif/Data-Science-From-Scratch/blob/main/Chapter1/'Data_Scientists_You_may_Know'_suggester.ipynb\" target=\"_parent\"><img src=\"https://colab.research.google.com/assets/colab-badge.svg\" alt=\"Open In Colab\"/></a>"
      ]
    },
    {
      "cell_type": "markdown",
      "metadata": {
        "id": "M9sK6zg4jvl4"
      },
      "source": [
        "Previous Data"
      ]
    },
    {
      "cell_type": "code",
      "metadata": {
        "id": "8nSxPKVNiJNm",
        "colab": {
          "base_uri": "https://localhost:8080/"
        },
        "outputId": "b20e1f0b-0dc4-48ba-f958-c36c52012091"
      },
      "source": [
        "users = [{ \"id\": 0, \"name\": \"Hero\" },    \r\n",
        "         { \"id\": 1, \"name\": \"Dunn\" },    \r\n",
        "         { \"id\": 2, \"name\": \"Sue\" },    \r\n",
        "         { \"id\": 3, \"name\": \"Chi\" },    \r\n",
        "         { \"id\": 4, \"name\": \"Thor\" },    \r\n",
        "         { \"id\": 5, \"name\": \"Clive\" },    \r\n",
        "         { \"id\": 6, \"name\": \"Hicks\" },    \r\n",
        "         { \"id\": 7, \"name\": \"Devin\" },    \r\n",
        "         { \"id\": 8, \"name\": \"Kate\" },    \r\n",
        "         { \"id\": 9, \"name\": \"Klein\" }]\r\n",
        "\r\n",
        "friendships=[(0,1),(0,2),(1,2),(1,3),(2,3),(3,4),\r\n",
        "             (4,5),(5,6),(5,7),(6,8),(7,8),(8,9)]\r\n",
        "\r\n",
        "for user in users:\r\n",
        "  user[\"friends\"]=[]\r\n",
        "for i, j in friendships:\r\n",
        "  #users[i][\"friends\"].append(users[j])   #use if you want to add all data of friends\r\n",
        "  #users[j][\"friends\"].append(users[i])\r\n",
        "  users[i][\"friends\"].append(users[j][\"name\"])    #use if you want to add friends names only\r\n",
        "  users[j][\"friends\"].append(users[i][\"name\"]) #because the friends pairs are given only once saying if a is a friend of b then b is a friend of a.\r\n",
        "\r\n",
        "print(users)            "
      ],
      "execution_count": 1,
      "outputs": [
        {
          "output_type": "stream",
          "text": [
            "[{'id': 0, 'name': 'Hero', 'friends': ['Dunn', 'Sue']}, {'id': 1, 'name': 'Dunn', 'friends': ['Hero', 'Sue', 'Chi']}, {'id': 2, 'name': 'Sue', 'friends': ['Hero', 'Dunn', 'Chi']}, {'id': 3, 'name': 'Chi', 'friends': ['Dunn', 'Sue', 'Thor']}, {'id': 4, 'name': 'Thor', 'friends': ['Chi', 'Clive']}, {'id': 5, 'name': 'Clive', 'friends': ['Thor', 'Hicks', 'Devin']}, {'id': 6, 'name': 'Hicks', 'friends': ['Clive', 'Kate']}, {'id': 7, 'name': 'Devin', 'friends': ['Clive', 'Kate']}, {'id': 8, 'name': 'Kate', 'friends': ['Hicks', 'Devin', 'Klein']}, {'id': 9, 'name': 'Klein', 'friends': ['Kate']}]\n"
          ],
          "name": "stdout"
        }
      ]
    }
  ]
}